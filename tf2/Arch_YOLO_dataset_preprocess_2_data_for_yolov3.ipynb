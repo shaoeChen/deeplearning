{
 "cells": [
  {
   "cell_type": "markdown",
   "metadata": {},
   "source": [
    "You Only Look Once，你只需要看一次，不需要先看框，再看類別，一次滿足檢測的所有需求。目前(20220902)已經發展到YOLOv7，雖然我還在弄v3，但相信資料格式是差不多的。相信，，即使有所落差，看完我的處理方式的說明，應該還是可以輕易的上手的。"
   ]
  },
  {
   "cell_type": "markdown",
   "metadata": {},
   "source": [
    "在下已有翻譯相關YOLO的論文，可參考[連結](https://hackmd.io/@shaoeChen/SyjI6W2zB/https%3A%2F%2Fhackmd.io%2F%40shaoeChen%2FHy6kUMWNI)，主要參考程式碼為[git_japap](https://github.com/jmpap/YOLOV2-Tensorflow-2.0)與[YunYang1994](https://github.com/YunYang1994/TensorFlow2.0-Examples/blob/299fd6689f242d0f647a96b8844e86325e9fcb46/4-Object_Detection/YOLOV3/core/dataset.py)"
   ]
  },
  {
   "cell_type": "markdown",
   "metadata": {},
   "source": [
    "首先，我們要先取得資料集，會使用[Pascal VOC 2007的資料集](http://host.robots.ox.ac.uk/pascal/VOC/voc2007/index.html)，內有訓練、驗證、與測試三個子集。再請自行至上面連結內下載資料集即可。當然如果你使用的是另外的資料集，像是COCO的話，那就自己再找找COCO的部份就行。特別注意到類別數量的部份可能有所不同就是。"
   ]
  },
  {
   "cell_type": "markdown",
   "metadata": {},
   "source": [
    "解開tar之後，相關檔案會存在於資料夾VOCdevkit底下。不過就自己記得兩資料夾再解開，不然資料會混在一起。當然這個是看你介不介意，理論上是無所謂，因為文件內就有可以協助分離資料集的資料。"
   ]
  },
  {
   "cell_type": "markdown",
   "metadata": {},
   "source": [
    "這邊假設你已經看過Arch_YOLO_dataset_preprocess_1並且已瞭解，因此相關的註解都會拿掉以維護版面整潔"
   ]
  },
  {
   "cell_type": "markdown",
   "metadata": {},
   "source": [
    "首先載入需求套件"
   ]
  },
  {
   "cell_type": "code",
   "execution_count": 1,
   "metadata": {},
   "outputs": [],
   "source": [
    "import os\n",
    "\n",
    "import xml.etree.ElementTree as ET\n",
    "import xmltodict\n",
    "import matplotlib.pyplot as plt\n",
    "import matplotlib.image as img\n",
    "import matplotlib.patches as patches\n",
    "\n",
    "import numpy as np\n",
    "import tensorflow as tf\n"
   ]
  },
  {
   "cell_type": "markdown",
   "metadata": {},
   "source": [
    "設置一下label的對應"
   ]
  },
  {
   "cell_type": "code",
   "execution_count": 2,
   "metadata": {},
   "outputs": [],
   "source": [
    "VOC_NAME_LABEL_CLASS = {\n",
    "    'none': (0, 'Background'),\n",
    "    'aeroplane': (1, 'Vehicle'),\n",
    "    'bicycle': (2, 'Vehicle'),\n",
    "    'bird': (3, 'Animal'),\n",
    "    'boat': (4, 'Vehicle'),\n",
    "    'bottle': (5, 'Indoor'),\n",
    "    'bus': (6, 'Vehicle'),\n",
    "    'car': (7, 'Vehicle'),\n",
    "    'cat': (8, 'Animal'),\n",
    "    'chair': (9, 'Indoor'),\n",
    "    'cow': (10, 'Animal'),\n",
    "    'diningtable': (11, 'Indoor'),\n",
    "    'dog': (12, 'Animal'),\n",
    "    'horse': (13, 'Animal'),\n",
    "    'motorbike': (14, 'Vehicle'),\n",
    "    'person': (15, 'Person'),\n",
    "    'pottedplant': (16, 'Indoor'),\n",
    "    'sheep': (17, 'Animal'),\n",
    "    'sofa': (18, 'Indoor'),\n",
    "    'train': (19, 'Vehicle'),\n",
    "    'tvmonitor': (20, 'Indoor'),\n",
    "}"
   ]
  },
  {
   "cell_type": "code",
   "execution_count": 3,
   "metadata": {},
   "outputs": [],
   "source": [
    "VOC_NAME_LABEL = {key:v[0] for key,v in VOC_NAME_LABEL_CLASS.items()}\n",
    "VOC_LABEL_NAME = {v[0]:key for key,v in VOC_NAME_LABEL_CLASS.items()}"
   ]
  },
  {
   "cell_type": "markdown",
   "metadata": {},
   "source": [
    "載入取得照片bbox的函數"
   ]
  },
  {
   "cell_type": "code",
   "execution_count": 4,
   "metadata": {},
   "outputs": [],
   "source": [
    "def get_imgs_bounding_box(ann_folder, img_folder, label_mapping, is_difficult=False):\n",
    "    \"\"\"將Annotations的xml轉為訓練資料格式\n",
    "    :param ann_folder: Annotations資料夾路徑\n",
    "    :param img_folder: 照片資料夾路徑\n",
    "    :param label_mapping: label的描述與索引關聯表\n",
    "    :param is_difficult: 是否排除標記為困難的框\n",
    "    \n",
    "    returns\n",
    "        imgs_name: 所有照片的完整路徑\n",
    "        true_boxes: 所有照片的每一個邊界框的物件資訊\n",
    "    \"\"\"     \n",
    "    # 記錄所有照片的完整路徑\n",
    "    imgs_name = []\n",
    "    # 記錄照片的所有bound boxes\n",
    "    imgs_boxes = []\n",
    "    # 記錄一張照片中最多框有多少個\n",
    "    max_count = 0  \n",
    "    \n",
    "    # 取得所有xml檔案\n",
    "    for ann in os.listdir(ann_folder):    \n",
    "        # 記錄單張照片有幾個框\n",
    "        bound_box_count = 0\n",
    "        \n",
    "        # 取讀檔案\n",
    "        file = open(os.path.join(ann_folder, ann))\n",
    "        dict_ann_data = xmltodict.parse(file.read(), force_list=True)['annotation'][0]\n",
    "        file.close()\n",
    "        \n",
    "        # 開始處理資料格式\n",
    "        # 這邊不做一些是否存在的判斷，直接假設你的資料都是符合資料格式\n",
    "        # 記錄照片完整路徑\n",
    "        imgs_name.append(os.path.join(img_folder, dict_ann_data[\"filename\"][0]))        \n",
    "        \n",
    "        # 記錄照片的width、height\n",
    "        w = int(dict_ann_data['size'][0]['width'][0])\n",
    "        h = int(dict_ann_data['size'][0]['height'][0])        \n",
    "        \n",
    "        # 記錄照片中所有的物件資訊\n",
    "        boxes = []\n",
    "\n",
    "        # 判斷是否存在物件，有些照片可能只有背景\n",
    "        # 不存在物件就直接解析下一個xml檔案\n",
    "        if 'object' not in dict_ann_data:            \n",
    "            continue       \n",
    "\n",
    "        for obj in dict_ann_data['object']:\n",
    "            bound_box_count += 1\n",
    "            \n",
    "            # 判斷是否處理難處理照片            \n",
    "            difficult = bool(int(obj['difficult'][0]))\n",
    "            if difficult and is_difficult:\n",
    "                continue\n",
    "                \n",
    "            # 記錄照片中物件的資訊\n",
    "            # xmin、ymin、xmax、ymax、object label\n",
    "            # 座標點縮放\n",
    "            box = np.zeros((5))\n",
    "            box[0] = float(obj['bndbox'][0]['xmin'][0]) / w\n",
    "            box[1] = float(obj['bndbox'][0]['ymin'][0]) / h\n",
    "            box[2] = float(obj['bndbox'][0]['xmax'][0]) / w\n",
    "            box[3] = float(obj['bndbox'][0]['ymax'][0]) / h\n",
    "            box[4] = int(label_mapping[obj['name'][0]])\n",
    "            boxes.append(box)               \n",
    "\n",
    "        # 記錄一張照片中最大框的數量\n",
    "        if bound_box_count > max_count:\n",
    "            max_count = bound_box_count            \n",
    "        \n",
    "        imgs_boxes.append(np.asarray(boxes))\n",
    "\n",
    "    # 將照片的完整路徑list轉為numpy\n",
    "    imgs_name = np.array(imgs_name)\n",
    "\n",
    "    # 開一張大表要拿來寫入我們所取得的所有邊界框資訊\n",
    "    # 其維度為(照片量, 最大框數, 5)\n",
    "    # 5就是xmin, ymin, xmax, ymax, label\n",
    "    true_boxes = np.zeros((imgs_name.shape[0], max_count, 5))\n",
    "\n",
    "    for idx, boxes in enumerate(imgs_boxes):\n",
    "        true_boxes[idx, :boxes.shape[0], :5] = boxes\n",
    "\n",
    "    return imgs_name, true_boxes"
   ]
  },
  {
   "cell_type": "markdown",
   "metadata": {},
   "source": [
    "設置路徑並測試我們載入的函數是否正常執行"
   ]
  },
  {
   "cell_type": "code",
   "execution_count": 5,
   "metadata": {},
   "outputs": [],
   "source": [
    "path = '/tf/tf2/VOC2007/VOCdevkit/VOC2007'\n",
    "ann_folder = os.path.join(path, 'Annotations')\n",
    "img_folder = os.path.join(path, 'JPEGImages')\n",
    "label_mapping = {key:v[0] for key,v in VOC_NAME_LABEL_CLASS.items()}"
   ]
  },
  {
   "cell_type": "code",
   "execution_count": 6,
   "metadata": {},
   "outputs": [
    {
     "name": "stdout",
     "output_type": "stream",
     "text": [
      "CPU times: user 3.4 s, sys: 130 ms, total: 3.53 s\n",
      "Wall time: 3.53 s\n"
     ]
    }
   ],
   "source": [
    "%%time\n",
    "imgs_name, true_boxes = get_imgs_bounding_box(ann_folder, img_folder, label_mapping)"
   ]
  },
  {
   "cell_type": "code",
   "execution_count": 7,
   "metadata": {},
   "outputs": [
    {
     "data": {
      "text/plain": [
       "((9963,), (9963, 42, 5))"
      ]
     },
     "execution_count": 7,
     "metadata": {},
     "output_type": "execute_result"
    }
   ],
   "source": [
    "imgs_name.shape, true_boxes.shape"
   ]
  },
  {
   "cell_type": "markdown",
   "metadata": {},
   "source": [
    "下面載入照片生成器"
   ]
  },
  {
   "cell_type": "code",
   "execution_count": 8,
   "metadata": {},
   "outputs": [],
   "source": [
    "def img2tensor(filename, true_boxes, h, w, channels=3):\n",
    "    \"\"\"將照片路徑轉為tensor\"\"\"    \n",
    "    img = tf.io.read_file(filename)\n",
    "    img = tf.io.decode_jpeg(img, channels=channels)\n",
    "    img = tf.image.convert_image_dtype(img, tf.float32)   \n",
    "    img = tf.image.resize(img, (h, w))\n",
    "    return img, true_boxes"
   ]
  },
  {
   "cell_type": "code",
   "execution_count": 9,
   "metadata": {},
   "outputs": [],
   "source": [
    "def get_dataset(imgs_name, true_boxes, h, w, batch_size=5, shuffle=3000, seed=10):\n",
    "    \"\"\"生成tf.data.Dataset\n",
    "    執行之前應該先從get_imgs_bounding_box取得照片路徑清單與實際框的資訊\n",
    "    \n",
    "    :params: imgs_name: 照片路徑清單\n",
    "    :params: true_boxes: 照片內的邊界框資訊\n",
    "    :params: h: 預計resize的照片高度\n",
    "    :params: w: 預計resize的照片寬度\n",
    "    :params: batch_size: 每次取批數量，預設為5\n",
    "    :params: shuffle_num: 打散的數量，預設為3000\n",
    "    :params: seed: 亂數種子，預設為10\n",
    "    \n",
    "    return\n",
    "        dataset: ((batch_size x h x w x channel), (batch_size, max_bboxes, 5))\n",
    "    \"\"\"\n",
    "    dataset = tf.data.Dataset.from_tensor_slices((imgs_name, true_boxes))\n",
    "    # 資料轉型別\n",
    "    dataset = dataset.map(lambda x, y: img2tensor(x, y, h=h, w=w))\n",
    "    # 資料打散\n",
    "    dataset = dataset.shuffle(3000, seed=seed)\n",
    "    # 資料要重覆\n",
    "    dataset = dataset.repeat()\n",
    "    # 設置每批數量\n",
    "    # 這可以自己利用參數來設置\n",
    "    dataset = dataset.batch(batch_size)\n",
    "    # 設置預取\n",
    "    dataset = dataset.prefetch(buffer_size=tf.data.experimental.AUTOTUNE)\n",
    "    return dataset"
   ]
  },
  {
   "cell_type": "markdown",
   "metadata": {},
   "source": [
    "產生資料生成器"
   ]
  },
  {
   "cell_type": "code",
   "execution_count": 10,
   "metadata": {},
   "outputs": [],
   "source": [
    "datasets = get_dataset(imgs_name, true_boxes, 416, 416, batch_size=5)"
   ]
  },
  {
   "cell_type": "markdown",
   "metadata": {},
   "source": [
    "測試配合生成器繪製框確認是否正確"
   ]
  },
  {
   "cell_type": "code",
   "execution_count": 11,
   "metadata": {},
   "outputs": [],
   "source": [
    "def plot_dataset(datasets, h, w, version=False):\n",
    "    \"\"\"隨機取一張照片出來繪製\n",
    "    \n",
    "    請先利用get_dataset取得dataset\n",
    "    \n",
    "    :params: datasets: 從get_dataset取得的dataset\n",
    "    :params: h: 預計resize的照片高度\n",
    "    :params: w: 預計resize的照片寬度\n",
    "    :params: version: 是否顯示簡單訊息\n",
    "    \"\"\"\n",
    "    for data in datasets.take(1):\n",
    "        fig = plt.figure(figsize=(16, 9))\n",
    "        img = data[0][0]    \n",
    "        f, ax = plt.subplots(1, 1)\n",
    "        ax.imshow(img)\n",
    "        objects = (data[1][0]).numpy()\n",
    "        # 一張照片上可能有多個物件，因此要迴圈處理    \n",
    "        for idx in range(objects.shape[0]):\n",
    "            obj = objects[idx]\n",
    "            if obj[-1] == 0.:\n",
    "                # 沒物件的時候就直接中斷迴圈\n",
    "                break        \n",
    "            # tensor to numpy\n",
    "            \n",
    "            _x = obj[0] * w\n",
    "            _y = obj[1] * h\n",
    "            _w = (obj[2] * w) - (obj[0] * w)\n",
    "            _h = (obj[3] * h) - (obj[1] * h)\n",
    "            _label = obj[4]\n",
    "\n",
    "            # 畫方框\n",
    "            rect = patches.Rectangle((_x, _y), \n",
    "                                     _w, \n",
    "                                     _h, \n",
    "                                     linewidth=2, \n",
    "                                     facecolor='none', \n",
    "                                     edgecolor='red')                \n",
    "            ax.add_patch(rect)\n",
    "            ax.text(x=_x, y=_y, s=VOC_LABEL_NAME[_label], color='red')\n",
    "            \n",
    "            if version:\n",
    "                print(f'x= {_x}, y= {_y}, w= {_w}, h= {_h}, label= {VOC_LABEL_NAME[_label]}')        \n",
    "        \n",
    "        plt.show()\n",
    "        # 只需要一張，因此一次迭代就中斷\n",
    "        break\n",
    "    "
   ]
  },
  {
   "cell_type": "code",
   "execution_count": 12,
   "metadata": {},
   "outputs": [
    {
     "data": {
      "text/plain": [
       "<Figure size 1152x648 with 0 Axes>"
      ]
     },
     "metadata": {},
     "output_type": "display_data"
    },
    {
     "data": {
      "image/png": "[encoded data removed]",
      "text/plain": [
       "<Figure size 432x288 with 1 Axes>"
      ]
     },
     "metadata": {
      "needs_background": "light"
     },
     "output_type": "display_data"
    }
   ],
   "source": [
    "plot_dataset(datasets, 416, 416)"
   ]
  },
  {
   "cell_type": "markdown",
   "metadata": {},
   "source": [
    "前置作業不少，下面這邊正式開始處理提供YOLOv3的資料格式"
   ]
  },
  {
   "cell_type": "markdown",
   "metadata": {},
   "source": [
    "我們知道，YOLOv3是在不同尺度中各利用三個anchor boxes prior做為計算依據，所以我們就來設置一下，值得注意的是，我的[參考資料](https://github.com/YunYang1994/TensorFlow2.0-Examples/blob/299fd6689f242d0f647a96b8844e86325e9fcb46/4-Object_Detection/YOLOV3/core/dataset.py)中有為anchor boxes做縮放，猜測這是為了能夠適應不同大小的情況所做的設置，畢竟你可能會有自己想做的input、output之類的，不過一樣的，為了方便理解，這邊就採用預設情況。"
   ]
  },
  {
   "cell_type": "code",
   "execution_count": 13,
   "metadata": {},
   "outputs": [
    {
     "data": {
      "text/plain": [
       "array([[[ 10.,  13.],\n",
       "        [ 16.,  30.],\n",
       "        [ 33.,  23.]],\n",
       "\n",
       "       [[ 30.,  61.],\n",
       "        [ 62.,  45.],\n",
       "        [ 59., 119.]],\n",
       "\n",
       "       [[116.,  90.],\n",
       "        [156., 198.],\n",
       "        [373., 326.]]])"
      ]
     },
     "execution_count": 13,
     "metadata": {},
     "output_type": "execute_result"
    }
   ],
   "source": [
    "# 下面註解給出的就是參考來源對於anchor box prior的一個縮放處理\n",
    "# 1.25,1.625, 2.0,3.75, 4.125,2.875, 1.875,3.8125, 3.875,2.8125, 3.6875,7.4375, 3.625,2.8125, 4.875,6.1875, 11.65625,10.1875\n",
    "# [8, 16, 32]\n",
    "anchors='10,13,  16,30,  33,23,  30,61,  62,45,  59,119,  116,90,  156,198,  373,326'\n",
    "anchors = [float(x) for x in anchors.split(',')]\n",
    "anchors = np.array(anchors).reshape((3, 3, 2))\n",
    "anchors"
   ]
  },
  {
   "cell_type": "code",
   "execution_count": 14,
   "metadata": {},
   "outputs": [],
   "source": [
    "ANCHORS = anchors.copy()\n",
    "# 這是跟上面ANCHORS對應的STRIDES\n",
    "STRIDES = [8, 16, 32]"
   ]
  },
  {
   "cell_type": "markdown",
   "metadata": {},
   "source": [
    "<img src=\"https://hackmd.io/_uploads/ByAPjJkli.png\" width=\"50%\" />"
   ]
  },
  {
   "cell_type": "markdown",
   "metadata": {},
   "source": [
    "STRIDES的話，該怎麼說，我們假設，上面是一張200x200的照片，那中心點也就是(100, 100)的地方有一個框的大小是100x100，結果來看我們的output會是一個5x5x1x(5+C)的tensor。我們幻想的是，一張輸入的照片被我們切割成5x5，那每個grid cell就代表200/5=40的大小。如果你用sliding window來思考的話，你就是拿著一個40x40的章在蓋。那100x100要蓋幾次，蓋2.5次，也就是100/40=2.5。所以你用40x40的角度來看100x100的框，它就是一個2.5x2.5的框。不過這部份還是要看整體程式碼的單位定義就是。"
   ]
  },
  {
   "cell_type": "markdown",
   "metadata": {},
   "source": [
    "根據Arch_YOLOv3_3_loss_function裡面的decoder函數我們知道，這個decoder是會將output的feature map轉為一個M x N x N x 3 x (5 + class nums)，這是一個已經經過計算之後得到的推論資料，而我們上面的資料生成器是一個經過正規化的資料，這是為了能夠適應轉成不同大小所做的設置，先把這事放心裡。"
   ]
  },
  {
   "cell_type": "markdown",
   "metadata": {},
   "source": [
    "YOLOv3的input shape我們假定為(416, 416, 3)，然後output會有三種不同尺度的資料，我們先拿一個尺度(13 x 13)來做說明，剩下的只是迴圈處理的問題。"
   ]
  },
  {
   "cell_type": "code",
   "execution_count": 15,
   "metadata": {},
   "outputs": [
    {
     "data": {
      "text/plain": [
       "array([52., 26., 13.])"
      ]
     },
     "execution_count": 15,
     "metadata": {},
     "output_type": "execute_result"
    }
   ],
   "source": [
    "input_shape = 416\n",
    "output_shape = 416 / np.array(STRIDES)\n",
    "output_shape "
   ]
  },
  {
   "cell_type": "markdown",
   "metadata": {},
   "source": [
    "我們的資料生成器已經會提供我們正規化過後的照片還有照片上面的所有的框資訊，因為我們的batch size是5，所以生成器回傳的第一個索引資料維度就會是照片資訊(5, 416, 416, 3)，第二個索引資料維度就會是照片上的框資訊(5, 42, 5)，如果你不明白42這個數字怎麼來的話可以回頭看一下preprocess_1。"
   ]
  },
  {
   "cell_type": "code",
   "execution_count": 16,
   "metadata": {},
   "outputs": [
    {
     "name": "stdout",
     "output_type": "stream",
     "text": [
      "(5, 416, 416, 3)\n",
      "(5, 42, 5)\n"
     ]
    }
   ],
   "source": [
    "for data in datasets.take(1):\n",
    "    print(data[0].shape)\n",
    "    print(data[1].shape)\n",
    "    break"
   ]
  },
  {
   "cell_type": "markdown",
   "metadata": {},
   "source": [
    "瞭解輸出資訊的維度之後就可以來做後續的處理"
   ]
  },
  {
   "cell_type": "markdown",
   "metadata": {},
   "source": [
    "首先開張表來等著記錄每一張照片上的每一個anchor box的資訊"
   ]
  },
  {
   "cell_type": "code",
   "execution_count": 17,
   "metadata": {},
   "outputs": [
    {
     "data": {
      "text/plain": [
       "(5, 13, 13, 3, 26)"
      ]
     },
     "execution_count": 17,
     "metadata": {},
     "output_type": "execute_result"
    }
   ],
   "source": [
    "label_true_box = np.zeros(shape=(5, 13, 13, 3, 5 + 21))\n",
    "label_true_box.shape"
   ]
  },
  {
   "cell_type": "markdown",
   "metadata": {},
   "source": [
    "再開一張表來記錄照片的所有bounding box資訊"
   ]
  },
  {
   "cell_type": "code",
   "execution_count": 18,
   "metadata": {},
   "outputs": [],
   "source": [
    "label_img_bbox = np.zeros(shape=(5, 42, 4))"
   ]
  },
  {
   "cell_type": "code",
   "execution_count": 19,
   "metadata": {
    "scrolled": false
   },
   "outputs": [
    {
     "name": "stdout",
     "output_type": "stream",
     "text": [
      "bbox: 0\n",
      "original box: w:0.576, h: 0.9626666666666667, cx: 0.446, cy: 0.5186666666666667\n",
      "rescale box: w:239.61599999999999, h: 400.46933333333334, cx: 185.536, cy: 215.76533333333336\n",
      "cell col: 5, cell row: 6\n",
      "anchors_w: [116. 156. 373.], anchors_h: [ 90. 198. 326.]\n",
      "intersect: [10440.    30888.    78114.816]\n",
      "union: [ 95958.859776  95958.859776 139442.043776]\n",
      "iou: [0.10879662 0.32188794 0.56019558]\n",
      "best anchor: 0.5601955757725683\n",
      "best anchor idx: 2\n",
      "label_true_box: [185.536      215.76533333 239.616      400.46933333   1.\n",
      "   0.           0.           0.           0.           0.\n",
      "   0.           0.           0.           0.           1.\n",
      "   0.           0.           0.           0.           0.\n",
      "   0.           0.           0.           0.           0.\n",
      "   0.        ]\n",
      "bbox: 1\n",
      "original box: w:0.5619999999999999, h: 0.6986666666666667, cx: 0.449, cy: 0.6506666666666667\n",
      "rescale box: w:233.79199999999997, h: 290.6453333333333, cx: 186.784, cy: 270.67733333333337\n",
      "cell col: 5, cell row: 8\n",
      "anchors_w: [116. 156. 373.], anchors_h: [ 90. 198. 326.]\n",
      "intersect: [10440.         30888.         67950.55377067]\n",
      "union: [ 67950.55377067  67950.55377067 121598.        ]\n",
      "iou: [0.15364113 0.45456583 0.55881309]\n",
      "best anchor: 0.5588130871450735\n",
      "best anchor idx: 2\n",
      "label_true_box: [186.784      270.67733333 233.792      290.64533333   1.\n",
      "   0.           0.           0.           0.           0.\n",
      "   0.           0.           0.           0.           0.\n",
      "   0.           0.           0.           0.           0.\n",
      "   1.           0.           0.           0.           0.\n",
      "   0.        ]\n",
      "bbox: 2\n",
      "original box: w:0.444, h: 0.992, cx: 0.224, cy: 0.504\n",
      "rescale box: w:184.704, h: 412.672, cx: 93.184, cy: 209.664\n",
      "cell col: 2, cell row: 6\n",
      "anchors_w: [116. 156. 373.], anchors_h: [ 90. 198. 326.]\n",
      "intersect: [10440.    30888.    60213.504]\n",
      "union: [ 76222.169088  76222.169088 137606.665088]\n",
      "iou: [0.13696803 0.40523643 0.43757694]\n",
      "best anchor: 0.4375769441218071\n",
      "best anchor idx: 2\n",
      "label_true_box: [ 93.184 209.664 184.704 412.672   1.      0.      0.      0.      0.\n",
      "   0.      0.      0.      0.      0.      0.      0.      0.      0.\n",
      "   0.      0.      1.      0.      0.      0.      0.      0.   ]\n"
     ]
    }
   ],
   "source": [
    "label_true_box = np.zeros(shape=(5, 13, 13, 3, 5 + 21))\n",
    "label_img_bbox = np.zeros(shape=(5, 42, 4))\n",
    "\n",
    "# 取1個batch size的資料，也就是5筆\n",
    "for data in datasets.take(1):\n",
    "    # 1個batch有5張照片\n",
    "    for i in range(5):\n",
    "        # 邊界框的資訊先轉為numpy\n",
    "        bboxes = data[1][i].numpy()\n",
    "        # 遍歷所有的邊界框\n",
    "        for idx, bbox in enumerate(bboxes):\n",
    "            # 沒有物件的時候就直接中斷\n",
    "            if bbox[4] == 0:\n",
    "                break\n",
    "            # 這邊的資訊是正規化後的資訊\n",
    "            # 計算寬、高\n",
    "            w = bbox[2] - bbox[0]\n",
    "            h = bbox[3] - bbox[1]\n",
    "            # 取得中心點\n",
    "            cx = (bbox[0] + bbox[2]) / 2\n",
    "            cy = (bbox[1] + bbox[3]) / 2\n",
    "            print(f'bbox: {idx}')\n",
    "            print(f'original box: w:{w}, h: {h}, cx: {cx}, cy: {cy}')            \n",
    "\n",
    "            # 因為我們的資料是正規化處理過的\n",
    "            # 所以這邊會根據實際的input shape做縮放\n",
    "            w *= 416\n",
    "            h *= 416\n",
    "            cx *= 416\n",
    "            cy *= 416\n",
    "            print(f'rescale box: w:{w}, h: {h}, cx: {cx}, cy: {cy}')\n",
    "        \n",
    "            # 記錄這個batch的第i筆資料的第j個邊界框資訊            \n",
    "            label_img_bbox[i, idx] =  np.array([cx, cy, w, h])                    \n",
    "            \n",
    "            # 接著，我們要計算中心點是落在那一個cell           \n",
    "            cell_col = np.floor(cx / 32).astype(np.int)\n",
    "            cell_row = np.floor(cy / 32).astype(np.int)                           \n",
    "            print(f'cell col: {cell_col}, cell row: {cell_row}')\n",
    "        \n",
    "            # 現在我們要找出擁有最高iou的那個anchor box            \n",
    "            # 這邊我還不是那麼確定，每個anchor box prior的中心點是跟物件的中心一致，\n",
    "            # 還是每個grid cell的中心點才是anchor box prior的中心點\n",
    "            # 取出anchor box的寬與高\n",
    "            anchors_w = ANCHORS[2, :, 0] \n",
    "            anchors_h = ANCHORS[2, :, 1]           \n",
    "            print(f'anchors_w: {anchors_w}, anchors_h: {anchors_h}')\n",
    "        \n",
    "            # 首先計算交集的面積\n",
    "            intersect = np.minimum(w, anchors_w) * np.minimum(h, anchors_h)\n",
    "            print(f'intersect: {intersect}')\n",
    "            # 接著計算聯集的區域面積\n",
    "            # 兩個面積相加再減掉交集的面積\n",
    "            union = (anchors_w * anchors_h) + (w * h) - intersect\n",
    "            print(f'union: {union}')\n",
    "            # 計算iou\n",
    "            iou = intersect / union\n",
    "            print(f'iou: {iou}')\n",
    "        \n",
    "            anchor_best = np.max(iou)\n",
    "            # 最大iou的index\n",
    "            anchor_best_idx = np.argmax(iou) \n",
    "            print(f'best anchor: {anchor_best}')\n",
    "            print(f'best anchor idx: {anchor_best_idx}')\n",
    "        \n",
    "            # 記錄產品類別\n",
    "            label_true_box[i,cell_col, cell_row, anchor_best_idx, 0: 4] = [cx, cy, w, h]\n",
    "            label_true_box[i,cell_col, cell_row, anchor_best_idx, 4: 5] = 1\n",
    "            label_true_box[i,cell_col, cell_row, anchor_best_idx, 5 + int(bbox[4])] = 1\n",
    "            print(f'label_true_box: {label_true_box[i,cell_col, cell_row, anchor_best_idx]}')\n",
    "        break"
   ]
  },
  {
   "cell_type": "markdown",
   "metadata": {},
   "source": [
    "基本上，目前我不是那麼確定anchor box prior的中心點是不是都一定在每個grid cell的中心點，如果是在grid cell的中心點的話，那IoU的計算就不是那麼簡單了，但我現在的作法是假定anchor box prior的中心點跟物體在該grid cell的中心點一致。"
   ]
  },
  {
   "cell_type": "markdown",
   "metadata": {},
   "source": [
    "下面也可以看一下記錄照片所有bounding box的label_img_bboxes"
   ]
  },
  {
   "cell_type": "code",
   "execution_count": 20,
   "metadata": {},
   "outputs": [
    {
     "data": {
      "text/plain": [
       "array([[185.536     , 215.76533333, 239.616     , 400.46933333],\n",
       "       [186.784     , 270.67733333, 233.792     , 290.64533333]])"
      ]
     },
     "execution_count": 20,
     "metadata": {},
     "output_type": "execute_result"
    }
   ],
   "source": [
    "label_img_bbox[0, 0: 2]"
   ]
  },
  {
   "cell_type": "markdown",
   "metadata": {},
   "source": [
    "單一個尺度(13x13)沒問題之後，我們就可以嚐試加入其它尺度(26x26、52x52)來考慮，基本上我們要注意的就是，在不同尺度的情況下要正確取得相對應的anchor box prior就可以了。"
   ]
  },
  {
   "cell_type": "code",
   "execution_count": 21,
   "metadata": {},
   "outputs": [
    {
     "data": {
      "text/plain": [
       "((5, 52, 52, 3, 26), (5, 26, 26, 3, 26), (5, 13, 13, 3, 26))"
      ]
     },
     "execution_count": 21,
     "metadata": {},
     "output_type": "execute_result"
    }
   ],
   "source": [
    "label_true_boxes = [np.zeros(shape=(5, int(i), int(i), 3, 5 + 21)) for i in output_shape]\n",
    "label_true_boxes[0].shape, label_true_boxes[1].shape, label_true_boxes[2].shape"
   ]
  },
  {
   "cell_type": "code",
   "execution_count": 22,
   "metadata": {},
   "outputs": [
    {
     "data": {
      "text/plain": [
       "((5, 42, 4), (5, 42, 4), (5, 42, 4))"
      ]
     },
     "execution_count": 22,
     "metadata": {},
     "output_type": "execute_result"
    }
   ],
   "source": [
    "label_img_bboxes = [np.zeros(shape=(5, 42, 4)) for _ in range(3)]\n",
    "label_img_bboxes[0].shape, label_img_bboxes[1].shape, label_img_bboxes[2].shape"
   ]
  },
  {
   "cell_type": "code",
   "execution_count": 23,
   "metadata": {},
   "outputs": [
    {
     "name": "stdout",
     "output_type": "stream",
     "text": [
      "bbox: 0\n",
      "normalization box: w:0.29800000000000004, h: 0.36533333333333334, cx: 0.655, cy: 0.5533333333333333\n",
      "rescale box: w:123.96800000000002, h: 151.97866666666667, cx: 272.48, cy: 230.18666666666667\n",
      "output shape: 52.0\n",
      "stride: 8, cell col: 34, cell row: 28\n",
      "anchors_w: [10. 16. 33.], anchors_h: [13. 30. 23.]\n",
      "intersect: [130. 480. 759.]\n",
      "union: [18840.49134933 18840.49134933 18840.49134933]\n",
      "iou: [0.00690003 0.02547704 0.04028557]\n",
      "best anchor: 0.04028557355150172\n",
      "best anchor idx: 2\n",
      "label_true_boxes: [272.48       230.18666667 123.968      151.97866667   1.\n",
      "   0.           0.           0.           0.           0.\n",
      "   0.           0.           0.           0.           0.\n",
      "   0.           0.           0.           0.           0.\n",
      "   1.           0.           0.           0.           0.\n",
      "   0.        ]\n",
      "output shape: 26.0\n",
      "stride: 16, cell col: 17, cell row: 14\n",
      "anchors_w: [30. 62. 59.], anchors_h: [ 61.  45. 119.]\n",
      "intersect: [1830. 2790. 7021.]\n",
      "union: [18840.49134933 18840.49134933 18840.49134933]\n",
      "iou: [0.09713122 0.14808531 0.37265482]\n",
      "best anchor: 0.37265482464439204\n",
      "best anchor idx: 2\n",
      "label_true_boxes: [272.48       230.18666667 123.968      151.97866667   1.\n",
      "   0.           0.           0.           0.           0.\n",
      "   0.           0.           0.           0.           0.\n",
      "   0.           0.           0.           0.           0.\n",
      "   1.           0.           0.           0.           0.\n",
      "   0.        ]\n",
      "output shape: 13.0\n",
      "stride: 32, cell col: 8, cell row: 7\n",
      "anchors_w: [116. 156. 373.], anchors_h: [ 90. 198. 326.]\n",
      "intersect: [10440.         18840.49134933 18840.49134933]\n",
      "union: [ 18840.49134933  30888.         121598.        ]\n",
      "iou: [0.55412568 0.60996152 0.1549408 ]\n",
      "best anchor: 0.6099615173961842\n",
      "best anchor idx: 1\n",
      "label_true_boxes: [272.48       230.18666667 123.968      151.97866667   1.\n",
      "   0.           0.           0.           0.           0.\n",
      "   0.           0.           0.           0.           0.\n",
      "   0.           0.           0.           0.           0.\n",
      "   1.           0.           0.           0.           0.\n",
      "   0.        ]\n"
     ]
    }
   ],
   "source": [
    "label_true_boxes = [np.zeros(shape=(5, int(i), int(i), 3, 5 + 21)) for i in output_shape]\n",
    "label_img_bboxes = [np.zeros(shape=(5, 42, 4)) for _ in range(3)]\n",
    "\n",
    "# 下面迴圈簡單說就是每一批照片中的每一張照片的每一個框都針對三種不同尺度來做處理\n",
    "# 取1個batch size的資料，也就是5筆\n",
    "for data in datasets.take(1):\n",
    "    # 1個batch有5張照片\n",
    "    for i in range(5):\n",
    "        # 邊界框的資訊先轉為numpy\n",
    "        bboxes = data[1][i].numpy()\n",
    "        # 遍歷所有的邊界框\n",
    "        for idx, bbox in enumerate(bboxes):\n",
    "            # 沒有物件的時候就直接中斷\n",
    "            if bbox[4] == 0:\n",
    "                break\n",
    "            # 這邊的資訊是正規化後的資訊\n",
    "            # 計算寬、高\n",
    "            w = bbox[2] - bbox[0]\n",
    "            h = bbox[3] - bbox[1]\n",
    "            # 取得中心點\n",
    "            cx = (bbox[0] + bbox[2]) / 2\n",
    "            cy = (bbox[1] + bbox[3]) / 2\n",
    "            print(f'bbox: {idx}')\n",
    "            print(f'normalization box: w:{w}, h: {h}, cx: {cx}, cy: {cy}')            \n",
    "\n",
    "            # 因為我們的資料是正規化處理過的\n",
    "            # 所以這邊會根據實際的input shape做縮放\n",
    "            w *= 416\n",
    "            h *= 416\n",
    "            cx *= 416\n",
    "            cy *= 416\n",
    "            print(f'rescale box: w:{w}, h: {h}, cx: {cx}, cy: {cy}')\n",
    "            # 三種anchor box prior尺度\n",
    "            for output_idx, oshape in enumerate(output_shape):            \n",
    "                print(f'output shape: {oshape}')\n",
    "\n",
    "                # 在output_idex對應的維度記錄這個batch的第i筆資料的第j個邊界框資訊            \n",
    "                label_img_bboxes[output_idx][i, idx] =  np.array([cx, cy, w, h])                    \n",
    "\n",
    "                # 接著，我們要計算中心點是落在那一個cell           \n",
    "                cell_col = np.floor(cx / STRIDES[output_idx]).astype(np.int)\n",
    "                cell_row = np.floor(cy / STRIDES[output_idx]).astype(np.int)                           \n",
    "                print(f'stride: {STRIDES[output_idx]}, cell col: {cell_col}, cell row: {cell_row}')\n",
    "\n",
    "                # 現在我們要找出擁有最高iou的那個anchor box            \n",
    "                # 這邊我還不是那麼確定，每個anchor box prior的中心點是跟物件的中心一致，\n",
    "                # 還是每個grid cell的中心點才是anchor box prior的中心點\n",
    "                # 取出anchor box的寬與高\n",
    "                anchors_w = ANCHORS[output_idx, :, 0] \n",
    "                anchors_h = ANCHORS[output_idx, :, 1]           \n",
    "                print(f'anchors_w: {anchors_w}, anchors_h: {anchors_h}')\n",
    "\n",
    "                # 首先計算交集的面積\n",
    "                intersect = np.minimum(w, anchors_w) * np.minimum(h, anchors_h)\n",
    "                print(f'intersect: {intersect}')\n",
    "                # 接著計算聯集的區域面積\n",
    "                # 兩個面積相加再減掉交集的面積\n",
    "                union = (anchors_w * anchors_h) + (w * h) - intersect\n",
    "                print(f'union: {union}')\n",
    "                # 計算iou\n",
    "                iou = intersect / union\n",
    "                print(f'iou: {iou}')\n",
    "\n",
    "                anchor_best = np.max(iou)\n",
    "                # 最大iou的index\n",
    "                anchor_best_idx = np.argmax(iou) \n",
    "                print(f'best anchor: {anchor_best}')\n",
    "                print(f'best anchor idx: {anchor_best_idx}')\n",
    "\n",
    "                # 在相對應維度的表中記錄產品類別\n",
    "                label_true_boxes[output_idx][i,cell_col, cell_row, anchor_best_idx, 0: 4] = [cx, cy, w, h]\n",
    "                label_true_boxes[output_idx][i,cell_col, cell_row, anchor_best_idx, 4: 5] = 1\n",
    "                label_true_boxes[output_idx][i,cell_col, cell_row, anchor_best_idx, 5 + int(bbox[4])] = 1\n",
    "                print(f'label_true_boxes: {label_true_boxes[output_idx][i,cell_col, cell_row, anchor_best_idx]}')\n",
    "        break"
   ]
  },
  {
   "cell_type": "markdown",
   "metadata": {},
   "source": [
    "上面資料不難看出一個問題，就是大框套在小物件跟小框套在大物件的情況下，它的IoU是非常糟的，所以這種情況下我們只能利用閥值來做排除，參考來源中設置的是0.3(當然也可以用參數來做為控制)，但也要注意一件事，就是閥值排除之後有物件變成沒有物件，所以三個尺度迴圈處理完之後還要再做一次判定就是。"
   ]
  },
  {
   "cell_type": "markdown",
   "metadata": {},
   "source": [
    "下面我們加入閥值做為調整"
   ]
  },
  {
   "cell_type": "code",
   "execution_count": 24,
   "metadata": {
    "scrolled": false
   },
   "outputs": [
    {
     "name": "stdout",
     "output_type": "stream",
     "text": [
      "object number: 13.0\n",
      "bbox: 0\n",
      "normalization box: w:0.07799999999999996, h: 0.35200000000000004, cx: 0.5429999999999999, cy: 0.5253333333333333\n",
      "rescale box: w:32.44799999999998, h: 146.43200000000002, cx: 225.88799999999998, cy: 218.53866666666667\n",
      "output shape: 52.0\n",
      "stride: 8, cell col: 28, cell row: 27\n",
      "anchors_w: [10. 16. 33.], anchors_h: [13. 30. 23.]\n",
      "intersect: [130.    480.    746.304]\n",
      "union: [4751.425536 4751.425536 4764.121536]\n",
      "iou: [0.02736021 0.10102231 0.15665092]\n",
      "best anchor: 0.15665091546480642\n",
      "best anchor idx: 2\n",
      "anchor_best change: [0, 28, 27, 2].\n",
      "output shape: 52.0 no IoU over 30%\n",
      "output shape: 26.0\n",
      "stride: 16, cell col: 14, cell row: 13\n",
      "anchors_w: [30. 62. 59.], anchors_h: [ 61.  45. 119.]\n",
      "intersect: [1830.    1460.16  3861.312]\n",
      "union: [4751.425536 6081.265536 7911.113536]\n",
      "iou: [0.38514757 0.24010792 0.48808704]\n",
      "best anchor: 0.48808704140433123\n",
      "best anchor idx: 2\n",
      "anchor_best change: [1, 14, 13, 2].\n",
      "label_true_boxes: [225.888      218.53866667  32.448      146.432        1.\n",
      "   0.           0.           0.           0.           0.\n",
      "   0.           0.           0.           0.           0.\n",
      "   0.           0.           0.           1.           0.\n",
      "   0.           0.           0.           0.           0.\n",
      "   0.        ]\n",
      "output shape: 13.0\n",
      "stride: 32, cell col: 7, cell row: 6\n",
      "anchors_w: [116. 156. 373.], anchors_h: [ 90. 198. 326.]\n",
      "intersect: [2920.32     4751.425536 4751.425536]\n",
      "union: [ 12271.105536  30888.       121598.      ]\n",
      "iou: [0.23798345 0.15382756 0.03907487]\n",
      "best anchor: 0.23798344749237088\n",
      "best anchor idx: 0\n",
      "anchor_best change: [2, 7, 6, 0].\n",
      "output shape: 13.0 no IoU over 30%\n",
      "object number: 15.0\n",
      "bbox: 1\n",
      "normalization box: w:0.14800000000000002, h: 0.3146666666666667, cx: 0.548, cy: 0.40800000000000003\n",
      "rescale box: w:61.56800000000001, h: 130.90133333333335, cx: 227.96800000000002, cy: 169.728\n",
      "output shape: 52.0\n",
      "stride: 8, cell col: 28, cell row: 21\n",
      "anchors_w: [10. 16. 33.], anchors_h: [13. 30. 23.]\n",
      "intersect: [130. 480. 759.]\n",
      "union: [8059.33329067 8059.33329067 8059.33329067]\n",
      "iou: [0.01613037 0.05955828 0.09417652]\n",
      "best anchor: 0.09417652461140684\n",
      "best anchor idx: 2\n",
      "anchor_best change: [0, 28, 21, 2].\n",
      "output shape: 52.0 no IoU over 30%\n",
      "output shape: 26.0\n",
      "stride: 16, cell col: 14, cell row: 10\n",
      "anchors_w: [30. 62. 59.], anchors_h: [ 61.  45. 119.]\n",
      "intersect: [1830.   2770.56 7021.  ]\n",
      "union: [8059.33329067 8078.77329067 8059.33329067]\n",
      "iou: [0.22706593 0.34294315 0.87116387]\n",
      "best anchor: 0.871163872591156\n",
      "best anchor idx: 2\n",
      "anchor_best change: [1, 14, 10, 2].\n",
      "label_true_boxes: [227.968      169.728       61.568      130.90133333   1.\n",
      "   0.           0.           0.           0.           0.\n",
      "   0.           0.           0.           0.           0.\n",
      "   0.           0.           0.           0.           0.\n",
      "   1.           0.           0.           0.           0.\n",
      "   0.        ]\n",
      "output shape: 13.0\n",
      "stride: 32, cell col: 7, cell row: 5\n",
      "anchors_w: [116. 156. 373.], anchors_h: [ 90. 198. 326.]\n",
      "intersect: [5541.12       8059.33329067 8059.33329067]\n",
      "union: [ 12958.21329067  30888.         121598.        ]\n",
      "iou: [0.42761451 0.26092118 0.0662785 ]\n",
      "best anchor: 0.42761450793459843\n",
      "best anchor idx: 0\n",
      "anchor_best change: [2, 7, 5, 0].\n",
      "label_true_boxes: [227.968      169.728       61.568      130.90133333   1.\n",
      "   0.           0.           0.           0.           0.\n",
      "   0.           0.           0.           0.           0.\n",
      "   0.           0.           0.           0.           0.\n",
      "   1.           0.           0.           0.           0.\n",
      "   0.        ]\n"
     ]
    }
   ],
   "source": [
    "label_true_boxes = [np.zeros(shape=(5, int(i), int(i), 3, 5 + 21)) for i in output_shape]\n",
    "label_img_bboxes = [np.zeros(shape=(5, 42, 4)) for _ in range(3)]\n",
    "\n",
    "# 下面迴圈簡單說就是每一批照片中的每一張照片的每一個框都針對三種不同尺度來做處理\n",
    "# 取1個batch size的資料，也就是5筆\n",
    "for data in datasets.take(1):\n",
    "    # 1個batch有5張照片\n",
    "    for i in range(5):\n",
    "        # 邊界框的資訊先轉為numpy\n",
    "        bboxes = data[1][i].numpy()\n",
    "        # 遍歷所有的邊界框\n",
    "        for idx, bbox in enumerate(bboxes):                       \n",
    "            # 沒有物件的時候就直接中斷\n",
    "            if bbox[4] == 0:\n",
    "                break\n",
    "            print(f'object number: {bbox[4]}')\n",
    "            # 用來記錄三個尺度的九個ancbor box比對出來的iou\n",
    "#             iou_list = []\n",
    "            # flag，用於記錄是不是有大於閥值的IoU\n",
    "            flag_positive = False            \n",
    "            # 過程中記錄一下當下最佳的那個iou，比對之後直接寫入好像好過再重計算一次？\n",
    "            _pre_iou = 0.\n",
    "            _biggest_iou_info = []\n",
    "            \n",
    "            # 這邊的資訊是正規化後的資訊\n",
    "            # 計算寬、高\n",
    "            w = bbox[2] - bbox[0]\n",
    "            h = bbox[3] - bbox[1]\n",
    "            # 取得中心點\n",
    "            cx = (bbox[0] + bbox[2]) / 2\n",
    "            cy = (bbox[1] + bbox[3]) / 2\n",
    "            print(f'bbox: {idx}')\n",
    "            print(f'normalization box: w:{w}, h: {h}, cx: {cx}, cy: {cy}')            \n",
    "\n",
    "            # 因為我們的資料是正規化處理過的\n",
    "            # 所以這邊會根據實際的input shape做縮放\n",
    "            w *= 416\n",
    "            h *= 416\n",
    "            cx *= 416\n",
    "            cy *= 416\n",
    "            print(f'rescale box: w:{w}, h: {h}, cx: {cx}, cy: {cy}')\n",
    "            # 三種anchor box prior尺度\n",
    "            for output_idx, oshape in enumerate(output_shape):            \n",
    "                print(f'output shape: {oshape}')\n",
    "                                \n",
    "                # 在output_idex對應的維度記錄這個batch的第i筆資料的第j個邊界框資訊            \n",
    "                label_img_bboxes[output_idx][i, idx] =  np.array([cx, cy, w, h])                      \n",
    "                    \n",
    "                # 接著，我們要計算中心點是落在那一個cell           \n",
    "                cell_col = np.floor(cx / STRIDES[output_idx]).astype(np.int)\n",
    "                cell_row = np.floor(cy / STRIDES[output_idx]).astype(np.int)                           \n",
    "                print(f'stride: {STRIDES[output_idx]}, cell col: {cell_col}, cell row: {cell_row}')\n",
    "\n",
    "                # 現在我們要找出擁有最高iou的那個anchor box            \n",
    "                # 這邊我還不是那麼確定，每個anchor box prior的中心點是跟物件的中心一致，\n",
    "                # 還是每個grid cell的中心點才是anchor box prior的中心點\n",
    "                # 取出anchor box的寬與高\n",
    "                anchors_w = ANCHORS[output_idx, :, 0] \n",
    "                anchors_h = ANCHORS[output_idx, :, 1]           \n",
    "                print(f'anchors_w: {anchors_w}, anchors_h: {anchors_h}')\n",
    "\n",
    "                # 首先計算交集的面積\n",
    "                intersect = np.minimum(w, anchors_w) * np.minimum(h, anchors_h)\n",
    "                print(f'intersect: {intersect}')\n",
    "                # 接著計算聯集的區域面積\n",
    "                # 兩個面積相加再減掉交集的面積\n",
    "                union = (anchors_w * anchors_h) + (w * h) - intersect\n",
    "                print(f'union: {union}')\n",
    "                # 計算iou\n",
    "                iou = intersect / union\n",
    "                print(f'iou: {iou}')\n",
    "                \n",
    "                # 寫入記錄做為後續如果真的真的真的沒有一個框是超過閥值的話\n",
    "                # 我們就從裡面挑一個最大的來當做代表吧\n",
    "#                 iou_list.append(iou)\n",
    "                \n",
    "                anchor_best = np.max(iou)\n",
    "                # 最大iou的index\n",
    "                anchor_best_idx = np.argmax(iou)                 \n",
    "                print(f'best anchor: {anchor_best}')\n",
    "                print(f'best anchor idx: {anchor_best_idx}')\n",
    "                \n",
    "                if anchor_best > _pre_iou:                    \n",
    "                    _pre_out = anchor_best\n",
    "                    _biggest_iou_info = [output_idx, cell_col, cell_row, anchor_best_idx]\n",
    "                    print(f'anchor_best change: {_biggest_iou_info}.')\n",
    "                \n",
    "                # 如果最好的IoU超過閥值，那就在相對應維度的表中記錄產品類別\n",
    "                if anchor_best >= 0.3:  \n",
    "                    # 如果有超過閥值的flag_positive面就不用再做其它處理\n",
    "                    flag_positive = True                                        \n",
    "                    \n",
    "                    label_true_boxes[output_idx][i,cell_col, cell_row, anchor_best_idx, 0: 4] = [cx, cy, w, h]\n",
    "                    label_true_boxes[output_idx][i,cell_col, cell_row, anchor_best_idx, 4: 5] = 1\n",
    "                    label_true_boxes[output_idx][i,cell_col, cell_row, anchor_best_idx, 5 + int(bbox[4])] = 1\n",
    "                    print(f'label_true_boxes: {label_true_boxes[output_idx][i,cell_col, cell_row, anchor_best_idx]}')\n",
    "                    \n",
    "                    \n",
    "                else:\n",
    "                    print(f'output shape: {oshape} no IoU over 30%')\n",
    "                    \n",
    "            # 這邊我們在一張照片三種尺度處理之後如果還是沒有超過30%閥值的要處理一下\n",
    "            # 參考來源是在最後如果都沒有的話再做一次全數的整理，不過我個人的認為是過程中只是比較\n",
    "            # 也許效能上是比較不耗計算資源，畢竟只是比較，比完記錄這樣\n",
    "            if not flag_positive:\n",
    "                print('no IoU over 30%, so get the biggest IoU.')\n",
    "                label_true_boxes[_biggest_iou_info[0]][i, _biggest_iou_info[1], _biggest_iou_info[2], _biggest_iou_info[3], 0: 4] = [cx, cy, w, h]\n",
    "                \n",
    "        break"
   ]
  },
  {
   "cell_type": "markdown",
   "metadata": {},
   "source": [
    "看起來資料的產出應該是沒問題，現在我們可以把這個過程函數化，想控的部份就可以利參數來處理，參數看起來可能會有點多，這是為了方便說明使用，如果真的要上線的話，不是弄個class，就是弄個參數檔"
   ]
  },
  {
   "cell_type": "code",
   "execution_count": 56,
   "metadata": {},
   "outputs": [],
   "source": [
    "def generate_data_for_loss(data_generator, batch_size: int, max_bboxes: int, class_nums: int, \n",
    "                           anchor_prior_nums: int=3, output_shape: np.ndarray=np.array([52., 26., 13.]),\n",
    "                           version=False, testing=False):\n",
    "    \"\"\"生成yolov3用於計算loss的資料格式\n",
    "    data_generator: tensor data的資料生成器\n",
    "    batch_size: 每次訓練張數\n",
    "    max_bboxes: 資料集中，一張照片最多有幾個框的數量\n",
    "    class_nums: 類別數量\n",
    "    anchor_prior_nums: 每個尺度使用的anchor prior nums的數量，標準的話會是3個\n",
    "    output_shape: yolov3的輸出大小，標準的話會是[52, 26, 13]\n",
    "    version: 是否列印過程中的訊息\n",
    "    testing: 測試用取一筆就結束\n",
    "    \n",
    "    return \n",
    "        label_true_boxes: 各尺度上的物件資料對應\n",
    "            三個索引分別為：52x52、26x26、13x13\n",
    "            維度為batch_size x anchor_scale x anchor_scale x anchor_box_prior_nums x (5 + class nums)\n",
    "        label_img_bboxes: 照片上的各物件的xywh\n",
    "            維度為batch_size x max_object_in_image x 4\n",
    "    \"\"\"        \n",
    "    label_true_boxes = [np.zeros(shape=(batch_size, int(i), int(i), 3, 5 + class_nums)) for i in output_shape]\n",
    "    label_img_bboxes = [np.zeros(shape=(batch_size, max_bboxes, 4)) for _ in range(anchor_prior_nums)]\n",
    "\n",
    "    for data in data_generator.take(1):\n",
    "        for i in range(batch_size):            \n",
    "            bboxes = data[1][i].numpy()                        \n",
    "            for idx, bbox in enumerate(bboxes):                                       \n",
    "                _message = []            \n",
    "                \n",
    "                if bbox[4] == 0:\n",
    "                    break\n",
    "                    \n",
    "                _message.append(f'batch size: {i}, bbox nums: {idx}, object class number: {bbox[4]}')\n",
    "\n",
    "                _one_hot_class = np.zeros(shape=(class_nums), dtype=np.float)\n",
    "                _one_hot_class[int(bbox[4])] = 1.0\n",
    "                \n",
    "                flag_positive = False            \n",
    "\n",
    "                _pre_iou = 0.\n",
    "                _biggest_iou_info = []\n",
    "\n",
    "                w = bbox[2] - bbox[0]\n",
    "                h = bbox[3] - bbox[1]\n",
    "                cx = (bbox[0] + bbox[2]) / 2\n",
    "                cy = (bbox[1] + bbox[3]) / 2\n",
    "                _message.append(f'bbox nums: {idx}, normalization box: w:{w}, h: {h}, cx: {cx}, cy: {cy}')                \n",
    "                \n",
    "                w *= 416\n",
    "                h *= 416\n",
    "                cx *= 416\n",
    "                cy *= 416\n",
    "                _message.append(f'bbox nums: {idx}, rescale box: w:{w}, h: {h}, cx: {cx}, cy: {cy}')       \n",
    "                                \n",
    "                for output_idx, oshape in enumerate(output_shape):                                                                \n",
    "                    label_img_bboxes[output_idx][i, idx] =  np.array([cx, cy, w, h])                      \n",
    "                    \n",
    "                    cell_col = np.floor(cx / STRIDES[output_idx]).astype(np.int)\n",
    "                    cell_row = np.floor(cy / STRIDES[output_idx]).astype(np.int)                                               \n",
    "                    _message.append(f'anchor scale: {oshape}, stride: {STRIDES[output_idx]}, cell col: {cell_col}, cell row: {cell_row}')\n",
    "                    \n",
    "                    anchors_w = ANCHORS[output_idx, :, 0] \n",
    "                    anchors_h = ANCHORS[output_idx, :, 1]           \n",
    "                    _message.append(f'anchor scale: {oshape}, stride: {STRIDES[output_idx]}, anchors_w: {anchors_w}, anchors_h: {anchors_h}')\n",
    "                    \n",
    "                    intersect = np.minimum(w, anchors_w) * np.minimum(h, anchors_h)\n",
    "                    union = (anchors_w * anchors_h) + (w * h) - intersect\n",
    "                    iou = intersect / union                                        \n",
    "                    _message.append(f'intersect: {intersect}')\n",
    "                    _message.append(f'union: {union}')\n",
    "                    _message.append(f'iou: {iou}')\n",
    "                    \n",
    "                    anchor_best = np.max(iou)                    \n",
    "                    anchor_best_idx = np.argmax(iou)                 \n",
    "                    _message.append(f'best anchor: {anchor_best}, best anchor idx: {anchor_best_idx}')                                        \n",
    "\n",
    "                    if anchor_best > _pre_iou:                    \n",
    "                        _pre_out = anchor_best\n",
    "                        _biggest_iou_info = [output_idx, cell_col, cell_row, anchor_best_idx]                        \n",
    "                    \n",
    "                    if anchor_best >= 0.3:  \n",
    "                        flag_positive = True                                        \n",
    "                        label_true_boxes[output_idx][i,cell_col, cell_row, anchor_best_idx, 0: 4] = [cx, cy, w, h]\n",
    "                        label_true_boxes[output_idx][i,cell_col, cell_row, anchor_best_idx, 4: 5] = 1\n",
    "                        #label_true_boxes[output_idx][i,cell_col, cell_row, anchor_best_idx, 5 + int(bbox[4])] = 1\n",
    "                        label_true_boxes[output_idx][i,cell_col, cell_row, anchor_best_idx, 5:] = _one_hot_class\n",
    "                        _message.append(f'label_true_boxes: {label_true_boxes[output_idx][i,cell_col, cell_row, anchor_best_idx]}')                        \n",
    "                    else:\n",
    "                        _message.append(f'output shape: {oshape} no IoU over 30%')                        \n",
    "        \n",
    "                if not flag_positive:                    \n",
    "                    _message.append(f'no IoU over 30%, so get the biggest IoU.')\n",
    "                    label_true_boxes[_biggest_iou_info[0]][i, _biggest_iou_info[1], _biggest_iou_info[2], _biggest_iou_info[3], 0: 4] = [cx, cy, w, h]\n",
    "                \n",
    "                if version:\n",
    "                    for mes in _message:\n",
    "                        print(mes)\n",
    "            if testing:\n",
    "                return None\n",
    "                \n",
    "    return label_true_boxes, label_img_bboxes"
   ]
  },
  {
   "cell_type": "markdown",
   "metadata": {},
   "source": [
    "確認看看如果是測試狀態是否能確實列印出我們整理的訊息"
   ]
  },
  {
   "cell_type": "code",
   "execution_count": 57,
   "metadata": {
    "scrolled": false
   },
   "outputs": [
    {
     "name": "stdout",
     "output_type": "stream",
     "text": [
      "batch size: 0, bbox nums: 0, object class number: 7.0\n",
      "bbox nums: 0, normalization box: w:0.966, h: 0.4746666666666666, cx: 0.499, cy: 0.5413333333333333\n",
      "bbox nums: 0, rescale box: w:401.856, h: 197.46133333333333, cx: 207.584, cy: 225.19466666666668\n",
      "anchor scale: 52.0, stride: 8, cell col: 25, cell row: 28\n",
      "anchor scale: 52.0, stride: 8, anchors_w: [10. 16. 33.], anchors_h: [13. 30. 23.]\n",
      "intersect: [130. 480. 759.]\n",
      "union: [79351.021568 79351.021568 79351.021568]\n",
      "iou: [0.00163829 0.00604907 0.00956509]\n",
      "best anchor: 0.00956509424834025, best anchor idx: 2\n",
      "output shape: 52.0 no IoU over 30%\n",
      "anchor scale: 26.0, stride: 16, cell col: 12, cell row: 14\n",
      "anchor scale: 26.0, stride: 16, anchors_w: [30. 62. 59.], anchors_h: [ 61.  45. 119.]\n",
      "intersect: [1830. 2790. 7021.]\n",
      "union: [79351.021568 79351.021568 79351.021568]\n",
      "iou: [0.02306208 0.03516023 0.08848027]\n",
      "best anchor: 0.08848027235520013, best anchor idx: 2\n",
      "output shape: 26.0 no IoU over 30%\n",
      "anchor scale: 13.0, stride: 32, cell col: 6, cell row: 7\n",
      "anchor scale: 13.0, stride: 32, anchors_w: [116. 156. 373.], anchors_h: [ 90. 198. 326.]\n",
      "intersect: [10440.         30803.968      73653.07733333]\n",
      "union: [ 79351.021568    79435.053568   127295.94423467]\n",
      "iou: [0.1315673  0.38778809 0.5785972 ]\n",
      "best anchor: 0.5785972033606653, best anchor idx: 2\n",
      "label_true_boxes: [207.584      225.19466667 401.856      197.46133333   1.\n",
      "   0.           0.           0.           0.           0.\n",
      "   0.           0.           1.           0.           0.\n",
      "   0.           0.           0.           0.           0.\n",
      "   0.           0.           0.           0.           0.\n",
      "   0.        ]\n"
     ]
    }
   ],
   "source": [
    "generate_data_for_loss(datasets, 5, 42, 21, version=True, testing=True)"
   ]
  },
  {
   "cell_type": "markdown",
   "metadata": {},
   "source": [
    "測試取得資料集看看"
   ]
  },
  {
   "cell_type": "code",
   "execution_count": 51,
   "metadata": {},
   "outputs": [],
   "source": [
    "true_boxes, img_bboxes = generate_data_for_loss(datasets, 5, 42, 21)"
   ]
  },
  {
   "cell_type": "code",
   "execution_count": 53,
   "metadata": {},
   "outputs": [
    {
     "data": {
      "text/plain": [
       "((5, 52, 52, 3, 26),\n",
       " (5, 26, 26, 3, 26),\n",
       " (5, 13, 13, 3, 26),\n",
       " (5, 42, 4),\n",
       " (5, 42, 4),\n",
       " (5, 42, 4))"
      ]
     },
     "execution_count": 53,
     "metadata": {},
     "output_type": "execute_result"
    }
   ],
   "source": [
    "true_boxes[0].shape, true_boxes[1].shape, true_boxes[2].shape, img_bboxes[0].shape, img_bboxes[1].shape, img_bboxes[2].shape, "
   ]
  },
  {
   "cell_type": "markdown",
   "metadata": {},
   "source": [
    "結果來看應該是沒有問題才對，還是那句話，最重要的依然是維度上的變化以及單位上的注意。"
   ]
  }
 ],
 "metadata": {
  "kernelspec": {
   "display_name": "Python 3",
   "language": "python",
   "name": "python3"
  },
  "language_info": {
   "codemirror_mode": {
    "name": "ipython",
    "version": 3
   },
   "file_extension": ".py",
   "mimetype": "text/x-python",
   "name": "python",
   "nbconvert_exporter": "python",
   "pygments_lexer": "ipython3",
   "version": "3.6.9"
  }
 },
 "nbformat": 4,
 "nbformat_minor": 4
}
